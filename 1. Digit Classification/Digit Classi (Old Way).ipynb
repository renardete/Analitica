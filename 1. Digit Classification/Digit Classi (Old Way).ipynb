{
 "cells": [
  {
   "cell_type": "markdown",
   "metadata": {},
   "source": [
    "## Clasificación de Digitos a la Antigüa\n",
    "\n",
    "Se importan las librerias a usar para este ejercicio:"
   ]
  },
  {
   "cell_type": "code",
   "execution_count": 121,
   "metadata": {},
   "outputs": [],
   "source": [
    "from sklearn.datasets import load_digits ## Data Set\n",
    "from math import log10 # Funcion log base 10\n",
    "import pylab as pl # Conjunto de librerias (MatLab)\n",
    "import numpy as np # Soporte de vectores y matrices."
   ]
  },
  {
   "cell_type": "code",
   "execution_count": 122,
   "metadata": {},
   "outputs": [
    {
     "name": "stdout",
     "output_type": "stream",
     "text": [
      "[[ 0.  0.  7. 15. 13.  1.  0.  0.]\n",
      " [ 0.  8. 13.  6. 15.  4.  0.  0.]\n",
      " [ 0.  2.  1. 13. 13.  0.  0.  0.]\n",
      " [ 0.  0.  2. 15. 11.  1.  0.  0.]\n",
      " [ 0.  0.  0.  1. 12. 12.  1.  0.]\n",
      " [ 0.  0.  0.  0.  1. 10.  8.  0.]\n",
      " [ 0.  0.  8.  4.  5. 14.  9.  0.]\n",
      " [ 0.  0.  7. 13. 13.  9.  0.  0.]]\n",
      "3\n"
     ]
    },
    {
     "data": {
      "text/plain": [
       "<Figure size 432x288 with 0 Axes>"
      ]
     },
     "metadata": {},
     "output_type": "display_data"
    },
    {
     "data": {
      "image/png": "[encoded data removed]",
      "text/plain": [
       "<Figure size 288x288 with 1 Axes>"
      ]
     },
     "metadata": {},
     "output_type": "display_data"
    }
   ],
   "source": [
    "\n",
    "digits = load_digits()\n",
    "pl.gray()\n",
    "pl.matshow(digits.images[3]) #Muestra la matriz en escala de grises\n",
    "print(digits.images[3]) #Muestra la matriz de valores\n",
    "print(digits.target[3]) # Muestra el label previamente clasificado."
   ]
  },
  {
   "cell_type": "markdown",
   "metadata": {},
   "source": [
    "Se crea una plantilla de un 3 (Tres) como base para la evaluación de las imágenes del dataset."
   ]
  },
  {
   "cell_type": "code",
   "execution_count": 123,
   "metadata": {},
   "outputs": [
    {
     "data": {
      "text/plain": [
       "<matplotlib.image.AxesImage at 0x19377dcf5f8>"
      ]
     },
     "execution_count": 123,
     "metadata": {},
     "output_type": "execute_result"
    },
    {
     "data": {
      "image/png": "[encoded data removed]",
      "text/plain": [
       "<Figure size 288x288 with 1 Axes>"
      ]
     },
     "metadata": {},
     "output_type": "display_data"
    }
   ],
   "source": [
    "# Plantilla: \n",
    "b = 2.0\n",
    "m = 8.0\n",
    "a = 16.0\n",
    "tresito = [[b,b,m,a,a,m,b,b],\n",
    "           [b,b,a,m,b,m,a,b],\n",
    "           [b,m,b,b,b,m,a,b],\n",
    "           [b,b,b,m,a,a,m,b],\n",
    "           [b,b,b,b,m,m,a,b],\n",
    "           [b,m,b,b,b,m,a,b],\n",
    "           [b,m,a,b,m,a,m,b],\n",
    "           [b,b,m,a,a,m,b,b]]\n",
    "\n",
    "pl.matshow(tresito)"
   ]
  },
  {
   "cell_type": "markdown",
   "metadata": {},
   "source": [
    "### Estrategia:\n",
    "\n",
    "La estrategia que se usa es la siguiente:\n",
    "\n",
    "1. Se disminuye a dimensión-1 cada imágen del dataset y la plantilla.\n",
    "2. Se suma 1 a cada valor de cada imagen, para eliminar 0´s.\n",
    "3. Se normalizan los valores de cada lista (imagen)  \n",
    "    - Se encuentra el valor maximo para cada lista.  \n",
    "    - Se divide cada lista por ese valor maximo.  \n",
    "4. Se define la función de score (Evaluación): La cual compara el valor de cada pixel de la imagen con el de la  \n",
    "    plantilla y si la diferencia abosluta es menor que el delta, suma el log10(p), donde p es el valor del pixel de la imagen,  \n",
    "    en caso contrario suma el log10(p/2).\n",
    "5. Se define un valor de \"Aceptación\" como:  \n",
    "    $$accept = \\frac{[sum_{n=1}^{numImages} score(img[n])]}{numImages}$$\n",
    "6. Se construye un diccionario para almacenar el número de 3´s correctamente clasificados y los correctamente clasificados como\n",
    "    no-3´s.\n",
    "7. Se calcula la precisión del modelo: \n",
    "    $$CP: Correctamente Positivos$$\n",
    "    $$CN: Correctamente Negativos$$\n",
    "    $$Accu = \\frac{CP + CN}{numImages}$$\n",
    "    \n"
   ]
  },
  {
   "cell_type": "code",
   "execution_count": 124,
   "metadata": {},
   "outputs": [],
   "source": [
    "# función para normalizar imagenes.\n",
    "def norm(image):\n",
    "    lenImage = len(image)\n",
    "    maxi = max(image)\n",
    "    for i in range(0, lenImage):\n",
    "        image[i] = image[i]/maxi        "
   ]
  },
  {
   "cell_type": "code",
   "execution_count": 125,
   "metadata": {},
   "outputs": [],
   "source": [
    "# Se normaliza el dataset\n",
    "numImages = len(digits.images)\n",
    "img = digits.images.reshape((numImages, -1))\n",
    "for i in range(0, numImages):\n",
    "    lenImg = len(img[i])\n",
    "    for j in range(0, lenImg):\n",
    "        img[i][j] += 1\n",
    "    norm(img[i])"
   ]
  },
  {
   "cell_type": "code",
   "execution_count": 126,
   "metadata": {
    "scrolled": true
   },
   "outputs": [
    {
     "name": "stdout",
     "output_type": "stream",
     "text": [
      "[0.125 0.125 0.5   1.    1.    0.5   0.125 0.125 0.125 0.125 1.    0.5\n",
      " 0.125 0.5   1.    0.125 0.125 0.5   0.125 0.125 0.125 0.5   1.    0.125\n",
      " 0.125 0.125 0.125 0.5   1.    1.    0.5   0.125 0.125 0.125 0.125 0.125\n",
      " 0.5   0.5   1.    0.125 0.125 0.5   0.125 0.125 0.125 0.5   1.    0.125\n",
      " 0.125 0.5   1.    0.125 0.5   1.    0.5   0.125 0.125 0.125 0.5   1.\n",
      " 1.    0.5   0.125 0.125]\n"
     ]
    }
   ],
   "source": [
    "aux = np.array(tresito)\n",
    "tresi = aux.flatten()\n",
    "norm(tresi)\n",
    "print(tresi)"
   ]
  },
  {
   "cell_type": "markdown",
   "metadata": {},
   "source": [
    "A mayor diferencia de probabilidades menos \"score\" va a tener."
   ]
  },
  {
   "cell_type": "code",
   "execution_count": 127,
   "metadata": {},
   "outputs": [],
   "source": [
    "# Función de calculo del score de cada imágen.\n",
    "def getScore(image1, image2, delta):\n",
    "    score = 0.0\n",
    "    imglen = len(image1)\n",
    "    for i in range(0,imglen):\n",
    "        if abs(image1[i]-image2[i]) <= delta:\n",
    "            score += log10(image1[i])\n",
    "        else:\n",
    "            score += log10(image1[i]/2.0)\n",
    "    return score"
   ]
  },
  {
   "cell_type": "code",
   "execution_count": 128,
   "metadata": {},
   "outputs": [
    {
     "name": "stdout",
     "output_type": "stream",
     "text": [
      "-56.04386607522759\n"
     ]
    }
   ],
   "source": [
    "## Se calcula el valor de acceptación\n",
    "accept = 0.0;\n",
    "for i in range(0, numImages):\n",
    "   accept +=  getScore(img[i], tresi, delta)\n",
    "accept /= numImages;\n",
    "print(accept)"
   ]
  },
  {
   "cell_type": "code",
   "execution_count": 129,
   "metadata": {},
   "outputs": [
    {
     "name": "stdout",
     "output_type": "stream",
     "text": [
      "Correctamente negativos: 881\n",
      "Correctamente positivos: 132\n"
     ]
    }
   ],
   "source": [
    "# Se realiza la clasificación de imagenes\n",
    "delta = 0.25\n",
    "clasi = {\"0\": 0, \"1\": 0}\n",
    "for i in range(0, numImages):\n",
    "    if getScore(img[i], tresi, delta) > accept:\n",
    "        if  digits.target[i]==3:\n",
    "            clasi[\"1\"]+=1\n",
    "    elif digits.target[i]!=3:\n",
    "        clasi[\"0\"]+=1\n",
    "\n",
    "print(\"Correctamente negativos:\", clasi[\"0\"])\n",
    "print(\"Correctamente positivos:\", clasi[\"1\"])"
   ]
  },
  {
   "cell_type": "code",
   "execution_count": 130,
   "metadata": {},
   "outputs": [],
   "source": [
    "# Función para obtener la precisión\n",
    "def getAccu(clasi, totalImg):\n",
    "    accu = (clasi[\"0\"]+clasi[\"1\"])/totalImg\n",
    "    return accu\n"
   ]
  },
  {
   "cell_type": "code",
   "execution_count": 131,
   "metadata": {
    "scrolled": true
   },
   "outputs": [
    {
     "name": "stdout",
     "output_type": "stream",
     "text": [
      "Accuracy: 0.563717306622148\n"
     ]
    }
   ],
   "source": [
    "# Precisión del modelo\n",
    "print(\"Accuracy:\", getAccu(clasi, numImages))"
   ]
  },
  {
   "cell_type": "code",
   "execution_count": 132,
   "metadata": {},
   "outputs": [
    {
     "name": "stdout",
     "output_type": "stream",
     "text": [
      "Cuantos tres hay en el dataset: 183\n"
     ]
    }
   ],
   "source": [
    "# Curiosidad de cuantos tres hay en el data set.\n",
    "cuantoTres = 0;\n",
    "for i in range(0, numImages):\n",
    "    if digits.target[i] == 3:\n",
    "        cuantoTres+=1\n",
    "\n",
    "print(\"Cuantos tres hay en el dataset:\", cuantoTres)"
   ]
  }
 ],
 "metadata": {
  "kernelspec": {
   "display_name": "Python 3",
   "language": "python",
   "name": "python3"
  },
  "language_info": {
   "codemirror_mode": {
    "name": "ipython",
    "version": 3
   },
   "file_extension": ".py",
   "mimetype": "text/x-python",
   "name": "python",
   "nbconvert_exporter": "python",
   "pygments_lexer": "ipython3",
   "version": "3.6.5"
  }
 },
 "nbformat": 4,
 "nbformat_minor": 2
}
