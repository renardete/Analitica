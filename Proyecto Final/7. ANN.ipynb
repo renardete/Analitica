{
 "cells": [
  {
   "cell_type": "code",
   "execution_count": 1,
   "metadata": {},
   "outputs": [],
   "source": [
    "#Ignorar warnings\n",
    "import warnings\n",
    "warnings.filterwarnings('ignore')\n",
    "\n",
    "import numpy as np #operaciones matriciales y con vectores\n",
    "import pandas as pd #tratamiento de datos\n",
    "import matplotlib.pyplot as plt #gráficos\n",
    "from sklearn import metrics, tree\n",
    "from sklearn.model_selection import cross_val_score, cross_validate #método para evaluar varios particionamientos de C-V\n",
    "from sklearn.model_selection import KFold\n",
    "from sklearn.model_selection import GridSearchCV\n",
    "\n",
    "from sklearn.feature_selection import RFECV\n",
    "\n",
    "from sklearn.preprocessing import StandardScaler\n",
    "import math\n",
    "import seaborn as sns\n",
    "\n",
    "from sklearn.model_selection import train_test_split\n",
    "from sklearn.neural_network import MLPClassifier\n",
    "\n",
    "from scipy.stats import uniform\n",
    "from scipy.stats import randint\n",
    "from sklearn.model_selection import RandomizedSearchCV"
   ]
  },
  {
   "cell_type": "code",
   "execution_count": 6,
   "metadata": {},
   "outputs": [
    {
     "data": {
      "text/html": [
       "<div>\n",
       "<style scoped>\n",
       "    .dataframe tbody tr th:only-of-type {\n",
       "        vertical-align: middle;\n",
       "    }\n",
       "\n",
       "    .dataframe tbody tr th {\n",
       "        vertical-align: top;\n",
       "    }\n",
       "\n",
       "    .dataframe thead th {\n",
       "        text-align: right;\n",
       "    }\n",
       "</style>\n",
       "<table border=\"1\" class=\"dataframe\">\n",
       "  <thead>\n",
       "    <tr style=\"text-align: right;\">\n",
       "      <th></th>\n",
       "      <th>Case1_Control0</th>\n",
       "      <th>Edad</th>\n",
       "      <th>Genero</th>\n",
       "      <th>Cycle Time</th>\n",
       "      <th>Stance Percent</th>\n",
       "      <th>Stance Time</th>\n",
       "      <th>Step Length</th>\n",
       "      <th>Step Number</th>\n",
       "      <th>Step Time</th>\n",
       "      <th>Step Cadence</th>\n",
       "      <th>...</th>\n",
       "      <th>Step Timel</th>\n",
       "      <th>Step Cadencel</th>\n",
       "      <th>Stride Numberl</th>\n",
       "      <th>Stride Lengthl</th>\n",
       "      <th>Swing Percentl</th>\n",
       "      <th>Swing Timel</th>\n",
       "      <th>Distancel</th>\n",
       "      <th>Duration Timel</th>\n",
       "      <th>Speedl</th>\n",
       "      <th>Accelerationl</th>\n",
       "    </tr>\n",
       "  </thead>\n",
       "  <tbody>\n",
       "    <tr>\n",
       "      <th>0</th>\n",
       "      <td>Positivo</td>\n",
       "      <td>79</td>\n",
       "      <td>M</td>\n",
       "      <td>0.803979</td>\n",
       "      <td>0.644524</td>\n",
       "      <td>1.327075</td>\n",
       "      <td>0.796338</td>\n",
       "      <td>2</td>\n",
       "      <td>0.335486</td>\n",
       "      <td>58.280750</td>\n",
       "      <td>...</td>\n",
       "      <td>0.312041</td>\n",
       "      <td>88.428185</td>\n",
       "      <td>1</td>\n",
       "      <td>0.185463</td>\n",
       "      <td>0.459888</td>\n",
       "      <td>0.624083</td>\n",
       "      <td>1.890646</td>\n",
       "      <td>1.357033</td>\n",
       "      <td>1.393220</td>\n",
       "      <td>1.026666</td>\n",
       "    </tr>\n",
       "    <tr>\n",
       "      <th>1</th>\n",
       "      <td>Positivo</td>\n",
       "      <td>79</td>\n",
       "      <td>M</td>\n",
       "      <td>0.826989</td>\n",
       "      <td>0.633677</td>\n",
       "      <td>1.326004</td>\n",
       "      <td>0.823259</td>\n",
       "      <td>2</td>\n",
       "      <td>0.352115</td>\n",
       "      <td>57.346196</td>\n",
       "      <td>...</td>\n",
       "      <td>0.429035</td>\n",
       "      <td>59.169468</td>\n",
       "      <td>1</td>\n",
       "      <td>1.198056</td>\n",
       "      <td>0.423096</td>\n",
       "      <td>0.858070</td>\n",
       "      <td>1.923441</td>\n",
       "      <td>2.028073</td>\n",
       "      <td>0.948408</td>\n",
       "      <td>0.467640</td>\n",
       "    </tr>\n",
       "    <tr>\n",
       "      <th>2</th>\n",
       "      <td>Positivo</td>\n",
       "      <td>79</td>\n",
       "      <td>M</td>\n",
       "      <td>0.789131</td>\n",
       "      <td>0.610778</td>\n",
       "      <td>1.219237</td>\n",
       "      <td>0.739892</td>\n",
       "      <td>2</td>\n",
       "      <td>0.359121</td>\n",
       "      <td>60.114133</td>\n",
       "      <td>...</td>\n",
       "      <td>0.405821</td>\n",
       "      <td>56.550877</td>\n",
       "      <td>1</td>\n",
       "      <td>1.059078</td>\n",
       "      <td>0.382493</td>\n",
       "      <td>0.811643</td>\n",
       "      <td>1.974094</td>\n",
       "      <td>2.121983</td>\n",
       "      <td>0.930306</td>\n",
       "      <td>0.438414</td>\n",
       "    </tr>\n",
       "    <tr>\n",
       "      <th>3</th>\n",
       "      <td>Positivo</td>\n",
       "      <td>68</td>\n",
       "      <td>M</td>\n",
       "      <td>1.193026</td>\n",
       "      <td>0.536687</td>\n",
       "      <td>1.263887</td>\n",
       "      <td>0.741654</td>\n",
       "      <td>2</td>\n",
       "      <td>0.476885</td>\n",
       "      <td>50.955888</td>\n",
       "      <td>...</td>\n",
       "      <td>0.435792</td>\n",
       "      <td>50.936203</td>\n",
       "      <td>1</td>\n",
       "      <td>1.085094</td>\n",
       "      <td>0.369960</td>\n",
       "      <td>0.871583</td>\n",
       "      <td>1.951583</td>\n",
       "      <td>2.355888</td>\n",
       "      <td>0.828385</td>\n",
       "      <td>0.351623</td>\n",
       "    </tr>\n",
       "    <tr>\n",
       "      <th>4</th>\n",
       "      <td>Positivo</td>\n",
       "      <td>68</td>\n",
       "      <td>M</td>\n",
       "      <td>1.045567</td>\n",
       "      <td>0.508093</td>\n",
       "      <td>1.061983</td>\n",
       "      <td>0.817604</td>\n",
       "      <td>2</td>\n",
       "      <td>0.446011</td>\n",
       "      <td>57.412502</td>\n",
       "      <td>...</td>\n",
       "      <td>0.358499</td>\n",
       "      <td>59.642470</td>\n",
       "      <td>1</td>\n",
       "      <td>1.189026</td>\n",
       "      <td>0.356362</td>\n",
       "      <td>0.716997</td>\n",
       "      <td>1.858186</td>\n",
       "      <td>2.011989</td>\n",
       "      <td>0.923557</td>\n",
       "      <td>0.459027</td>\n",
       "    </tr>\n",
       "  </tbody>\n",
       "</table>\n",
       "<p>5 rows × 33 columns</p>\n",
       "</div>"
      ],
      "text/plain": [
       "  Case1_Control0  Edad Genero  Cycle Time  Stance Percent  Stance Time  \\\n",
       "0       Positivo    79      M    0.803979        0.644524     1.327075   \n",
       "1       Positivo    79      M    0.826989        0.633677     1.326004   \n",
       "2       Positivo    79      M    0.789131        0.610778     1.219237   \n",
       "3       Positivo    68      M    1.193026        0.536687     1.263887   \n",
       "4       Positivo    68      M    1.045567        0.508093     1.061983   \n",
       "\n",
       "   Step Length  Step Number  Step Time  Step Cadence      ...        \\\n",
       "0     0.796338            2   0.335486     58.280750      ...         \n",
       "1     0.823259            2   0.352115     57.346196      ...         \n",
       "2     0.739892            2   0.359121     60.114133      ...         \n",
       "3     0.741654            2   0.476885     50.955888      ...         \n",
       "4     0.817604            2   0.446011     57.412502      ...         \n",
       "\n",
       "   Step Timel  Step Cadencel  Stride Numberl  Stride Lengthl  Swing Percentl  \\\n",
       "0    0.312041      88.428185               1        0.185463        0.459888   \n",
       "1    0.429035      59.169468               1        1.198056        0.423096   \n",
       "2    0.405821      56.550877               1        1.059078        0.382493   \n",
       "3    0.435792      50.936203               1        1.085094        0.369960   \n",
       "4    0.358499      59.642470               1        1.189026        0.356362   \n",
       "\n",
       "   Swing Timel  Distancel  Duration Timel    Speedl  Accelerationl  \n",
       "0     0.624083   1.890646        1.357033  1.393220       1.026666  \n",
       "1     0.858070   1.923441        2.028073  0.948408       0.467640  \n",
       "2     0.811643   1.974094        2.121983  0.930306       0.438414  \n",
       "3     0.871583   1.951583        2.355888  0.828385       0.351623  \n",
       "4     0.716997   1.858186        2.011989  0.923557       0.459027  \n",
       "\n",
       "[5 rows x 33 columns]"
      ]
     },
     "execution_count": 6,
     "metadata": {},
     "output_type": "execute_result"
    }
   ],
   "source": [
    "data = pd.read_csv('data_set_cleaned.csv', header = 0, names=None)\n",
    "data.head()"
   ]
  },
  {
   "cell_type": "code",
   "execution_count": 7,
   "metadata": {},
   "outputs": [],
   "source": [
    "x = data.loc[: , ~data.columns.isin(['Case1_Control0','Genero'])]\n",
    "x = x.values\n",
    "\n",
    "y = data['Case1_Control0'].values"
   ]
  },
  {
   "cell_type": "code",
   "execution_count": 4,
   "metadata": {},
   "outputs": [],
   "source": [
    "X_train, X_test, y_train, y_test = train_test_split(x, y, random_state=1234)"
   ]
  },
  {
   "cell_type": "code",
   "execution_count": 5,
   "metadata": {},
   "outputs": [],
   "source": [
    "scaler = StandardScaler()\n",
    "scaler.fit(X_train)\n",
    "X_train = scaler.transform(X_train)\n",
    "X_test = scaler.transform(X_test)"
   ]
  },
  {
   "cell_type": "code",
   "execution_count": 6,
   "metadata": {},
   "outputs": [
    {
     "name": "stdout",
     "output_type": "stream",
     "text": [
      "Accuracy: 0.717391304347826 , Kappa: 0.4347826086956522 \n",
      "\n",
      "             precision    recall  f1-score   support\n",
      "\n",
      "   Negativo       0.67      0.87      0.75        23\n",
      "   Positivo       0.81      0.57      0.67        23\n",
      "\n",
      "avg / total       0.74      0.72      0.71        46\n",
      "\n"
     ]
    }
   ],
   "source": [
    "mlp = MLPClassifier(\n",
    "    hidden_layer_sizes=(16),\n",
    "    activation = 'relu',\n",
    "    alpha=0.01,\n",
    "    learning_rate_init=0.001,\n",
    "    learning_rate='adaptive',\n",
    "    max_iter=400,\n",
    "    batch_size=1,\n",
    "    random_state=1234,\n",
    "    early_stopping=False,\n",
    "    verbose=False\n",
    ")\n",
    "\n",
    "mlp.fit(X_train,y_train)\n",
    "\n",
    "y_pred = mlp.predict(X_test)\n",
    "\n",
    "print(\"Accuracy:\", metrics.accuracy_score(y_test, y_pred), \", Kappa:\", metrics.cohen_kappa_score(y_test, y_pred), \"\\n\")\n",
    "print(metrics.classification_report(y_test, y_pred))"
   ]
  },
  {
   "cell_type": "code",
   "execution_count": 7,
   "metadata": {},
   "outputs": [
    {
     "data": {
      "text/plain": [
       "[<matplotlib.lines.Line2D at 0x202a6636940>]"
      ]
     },
     "execution_count": 7,
     "metadata": {},
     "output_type": "execute_result"
    },
    {
     "data": {
      "image/png": "[encoded data removed]",
      "text/plain": [
       "<Figure size 432x288 with 1 Axes>"
      ]
     },
     "metadata": {},
     "output_type": "display_data"
    }
   ],
   "source": [
    "plt.plot(mlp.loss_curve_)"
   ]
  },
  {
   "cell_type": "code",
   "execution_count": 8,
   "metadata": {},
   "outputs": [],
   "source": [
    "scaler = StandardScaler()\n",
    "scaler.fit(x)\n",
    "x = scaler.transform(x)"
   ]
  },
  {
   "cell_type": "code",
   "execution_count": 9,
   "metadata": {},
   "outputs": [
    {
     "name": "stdout",
     "output_type": "stream",
     "text": [
      "Fitting 10 folds for each of 20 candidates, totalling 200 fits\n"
     ]
    },
    {
     "name": "stderr",
     "output_type": "stream",
     "text": [
      "[Parallel(n_jobs=1)]: Done 200 out of 200 | elapsed:  1.0min finished\n"
     ]
    },
    {
     "data": {
      "text/plain": [
       "RandomizedSearchCV(cv=10, error_score='raise',\n",
       "          estimator=MLPClassifier(activation='relu', alpha=0.0001, batch_size='auto', beta_1=0.9,\n",
       "       beta_2=0.999, early_stopping=True, epsilon=1e-08,\n",
       "       hidden_layer_sizes=(100,), learning_rate='constant',\n",
       "       learning_rate_init=0.001, max_iter=200, momentum=0.9,\n",
       "       nesterovs_momentum=True, power_t=0.5, random_state=1234,\n",
       "       shuffle=True, solver='adam', tol=0.0001, validation_fraction=0.1,\n",
       "       verbose=False, warm_start=False),\n",
       "          fit_params=None, iid=True, n_iter=20, n_jobs=1,\n",
       "          param_distributions={'hidden_layer_sizes': [16], 'alpha': <scipy.stats._distn_infrastructure.rv_frozen object at 0x00000202A52F8F28>, 'learning_rate_init': <scipy.stats._distn_infrastructure.rv_frozen object at 0x00000202A668D1D0>, 'batch_size': [1]},\n",
       "          pre_dispatch='2*n_jobs', random_state=1234, refit=True,\n",
       "          return_train_score='warn', scoring='accuracy', verbose=True)"
      ]
     },
     "execution_count": 9,
     "metadata": {},
     "output_type": "execute_result"
    }
   ],
   "source": [
    "param_grid = {\n",
    "    'hidden_layer_sizes' : [(randint.rvs(15,20,1))],\n",
    "    'alpha' : uniform(0.000001,0.1),\n",
    "    'learning_rate_init' : uniform(0.000001,0.1),\n",
    "    'batch_size' : [1]\n",
    "}\n",
    "RS_MLP = RandomizedSearchCV(MLPClassifier(solver='adam', random_state=1234, max_iter=200, early_stopping=True, shuffle=True), param_distributions= param_grid, cv=10, random_state=1234,\n",
    "                           scoring='accuracy', n_iter=20, n_jobs=1, verbose=True)\n",
    "\n",
    "RS_MLP.fit(x,y)\n"
   ]
  },
  {
   "cell_type": "code",
   "execution_count": 10,
   "metadata": {},
   "outputs": [
    {
     "name": "stdout",
     "output_type": "stream",
     "text": [
      "Mejores parametros:\n",
      " {'alpha': 0.01915294503788923, 'batch_size': 1, 'hidden_layer_sizes': 16, 'learning_rate_init': 0.06221187710398319}\n",
      "Mejor Exactitud:\n",
      " 0.6758241758241759\n"
     ]
    }
   ],
   "source": [
    "\n",
    "print('Mejores parametros:\\n', RS_MLP.best_params_)\n",
    "print('Mejor Exactitud:\\n', RS_MLP.best_score_)"
   ]
  },
  {
   "cell_type": "markdown",
   "metadata": {},
   "source": [
    "Mejores parametros:\n",
    " {'alpha': 0.037026075479039494, 'batch_size': 1, 'hidden_layer_sizes': 19, 'learning_rate_init': 0.0561206186065625}\n",
    "Mejor Exactitud:\n",
    " 0.6868131868131868"
   ]
  },
  {
   "cell_type": "code",
   "execution_count": 11,
   "metadata": {},
   "outputs": [],
   "source": [
    "data_pca = pd.read_csv('data_set_pca.csv', header = 0, names=None)\n",
    "x_pca = data_pca.values"
   ]
  },
  {
   "cell_type": "code",
   "execution_count": 14,
   "metadata": {},
   "outputs": [
    {
     "name": "stdout",
     "output_type": "stream",
     "text": [
      "Fitting 10 folds for each of 15 candidates, totalling 150 fits\n"
     ]
    },
    {
     "name": "stderr",
     "output_type": "stream",
     "text": [
      "[Parallel(n_jobs=1)]: Done 150 out of 150 | elapsed:  3.6min finished\n"
     ]
    },
    {
     "data": {
      "text/plain": [
       "RandomizedSearchCV(cv=10, error_score='raise',\n",
       "          estimator=MLPClassifier(activation='relu', alpha=0.0001, batch_size='auto', beta_1=0.9,\n",
       "       beta_2=0.999, early_stopping=False, epsilon=1e-08,\n",
       "       hidden_layer_sizes=(100,), learning_rate='constant',\n",
       "       learning_rate_init=0.001, max_iter=200, momentum=0.9,\n",
       "       nesterovs_momentum=True, power_t=0.5, random_state=12,\n",
       "       shuffle=False, solver='adam', tol=0.0001, validation_fraction=0.1,\n",
       "       verbose=False, warm_start=False),\n",
       "          fit_params=None, iid=True, n_iter=15, n_jobs=1,\n",
       "          param_distributions={'hidden_layer_sizes': [766], 'alpha': <scipy.stats._distn_infrastructure.rv_frozen object at 0x00000202A66CFE80>, 'learning_rate_init': <scipy.stats._distn_infrastructure.rv_frozen object at 0x00000202A66CF9E8>, 'momentum': [0.7, 0.8, 0.9], 'nesterovs_momentum': [True, False], 'batch_size': [1]},\n",
       "          pre_dispatch='2*n_jobs', random_state=1234, refit=True,\n",
       "          return_train_score='warn', scoring='accuracy', verbose=True)"
      ]
     },
     "execution_count": 14,
     "metadata": {},
     "output_type": "execute_result"
    }
   ],
   "source": [
    "param_grid = {\n",
    "    'hidden_layer_sizes' : [(randint.rvs(15,350,1))],\n",
    "    'alpha' : uniform(0.000001,0.1),\n",
    "    'learning_rate_init' : uniform(0.000001,0.1),\n",
    "    'momentum' : [0.7,0.8,0.9],\n",
    "    'nesterovs_momentum' : [ True,False],\n",
    "    'batch_size' : [1]\n",
    "}\n",
    "RS_MLP = RandomizedSearchCV(MLPClassifier(solver='adam', random_state=12, max_iter=200, early_stopping=False, shuffle=False), param_distributions= param_grid, cv=10, random_state=1234,\n",
    "                           scoring='accuracy', n_iter=15, n_jobs=1, verbose=True)\n",
    "\n",
    "RS_MLP.fit(x_pca,y)"
   ]
  },
  {
   "cell_type": "code",
   "execution_count": 13,
   "metadata": {},
   "outputs": [
    {
     "name": "stdout",
     "output_type": "stream",
     "text": [
      "Mejores parametros:\n",
      " {'alpha': 0.0056003448965871, 'batch_size': 1, 'hidden_layer_sizes': 322, 'learning_rate_init': 0.04426726489592228, 'momentum': 0.8, 'nesterovs_momentum': True}\n",
      "Mejor Exactitud:\n",
      " 0.6868131868131868\n"
     ]
    }
   ],
   "source": [
    "\n",
    "print('Mejores parametros:\\n', RS_MLP.best_params_)\n",
    "print('Mejor Exactitud:\\n', RS_MLP.best_score_)"
   ]
  },
  {
   "cell_type": "markdown",
   "metadata": {},
   "source": [
    "Durante el afinamiento (Método random) de parámetros se encuentra que la siguiete configuración es:\n",
    "\n",
    "**Mejores parametros:**   \n",
    " {'alpha': 0.03648959839013723, 'batch_size': 1, 'hidden_layer_sizes': 20, 'learning_rate_init': 0.061540617843349375}  \n",
    "**Mejor Exactitud:**  \n",
    " 0.6978021978021978"
   ]
  },
  {
   "cell_type": "code",
   "execution_count": null,
   "metadata": {},
   "outputs": [],
   "source": []
  }
 ],
 "metadata": {
  "kernelspec": {
   "display_name": "Python 3",
   "language": "python",
   "name": "python3"
  },
  "language_info": {
   "codemirror_mode": {
    "name": "ipython",
    "version": 3
   },
   "file_extension": ".py",
   "mimetype": "text/x-python",
   "name": "python",
   "nbconvert_exporter": "python",
   "pygments_lexer": "ipython3",
   "version": "3.6.5"
  }
 },
 "nbformat": 4,
 "nbformat_minor": 2
}
