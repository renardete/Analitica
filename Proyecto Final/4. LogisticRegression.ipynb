{
 "cells": [
  {
   "cell_type": "code",
   "execution_count": 2,
   "metadata": {},
   "outputs": [],
   "source": [
    "#Ignorar warnings\n",
    "import warnings\n",
    "warnings.filterwarnings('ignore')\n",
    "\n",
    "import numpy as np #operaciones matriciales y con vectores\n",
    "import pandas as pd #tratamiento de datos\n",
    "import matplotlib.pyplot as plt #gráficos\n",
    "from sklearn import metrics\n",
    "from sklearn.linear_model import LogisticRegression\n",
    "from sklearn.model_selection import cross_val_score, cross_validate #método para evaluar varios particionamientos de C-V\n",
    "from sklearn.model_selection import KFold\n",
    "\n",
    "from sklearn.model_selection import GridSearchCV\n",
    "from sklearn.model_selection import RandomizedSearchCV\n",
    "\n",
    "from sklearn.feature_selection import RFECV\n",
    "\n",
    "from sklearn.preprocessing import StandardScaler\n",
    "import math\n",
    "import seaborn as sns\n",
    "\n",
    "from scipy.stats import uniform"
   ]
  },
  {
   "cell_type": "code",
   "execution_count": 3,
   "metadata": {},
   "outputs": [
    {
     "data": {
      "text/html": [
       "<div>\n",
       "<style scoped>\n",
       "    .dataframe tbody tr th:only-of-type {\n",
       "        vertical-align: middle;\n",
       "    }\n",
       "\n",
       "    .dataframe tbody tr th {\n",
       "        vertical-align: top;\n",
       "    }\n",
       "\n",
       "    .dataframe thead th {\n",
       "        text-align: right;\n",
       "    }\n",
       "</style>\n",
       "<table border=\"1\" class=\"dataframe\">\n",
       "  <thead>\n",
       "    <tr style=\"text-align: right;\">\n",
       "      <th></th>\n",
       "      <th>Case1_Control0</th>\n",
       "      <th>Edad</th>\n",
       "      <th>Genero</th>\n",
       "      <th>Cycle Time</th>\n",
       "      <th>Stance Percent</th>\n",
       "      <th>Stance Time</th>\n",
       "      <th>Step Length</th>\n",
       "      <th>Step Number</th>\n",
       "      <th>Step Time</th>\n",
       "      <th>Step Cadence</th>\n",
       "      <th>...</th>\n",
       "      <th>Step Timel</th>\n",
       "      <th>Step Cadencel</th>\n",
       "      <th>Stride Numberl</th>\n",
       "      <th>Stride Lengthl</th>\n",
       "      <th>Swing Percentl</th>\n",
       "      <th>Swing Timel</th>\n",
       "      <th>Distancel</th>\n",
       "      <th>Duration Timel</th>\n",
       "      <th>Speedl</th>\n",
       "      <th>Accelerationl</th>\n",
       "    </tr>\n",
       "  </thead>\n",
       "  <tbody>\n",
       "    <tr>\n",
       "      <th>0</th>\n",
       "      <td>Positivo</td>\n",
       "      <td>79</td>\n",
       "      <td>M</td>\n",
       "      <td>0.803979</td>\n",
       "      <td>0.644524</td>\n",
       "      <td>1.327075</td>\n",
       "      <td>0.796338</td>\n",
       "      <td>2</td>\n",
       "      <td>0.335486</td>\n",
       "      <td>58.280750</td>\n",
       "      <td>...</td>\n",
       "      <td>0.312041</td>\n",
       "      <td>88.428185</td>\n",
       "      <td>1</td>\n",
       "      <td>0.185463</td>\n",
       "      <td>0.459888</td>\n",
       "      <td>0.624083</td>\n",
       "      <td>1.890646</td>\n",
       "      <td>1.357033</td>\n",
       "      <td>1.393220</td>\n",
       "      <td>1.026666</td>\n",
       "    </tr>\n",
       "    <tr>\n",
       "      <th>1</th>\n",
       "      <td>Positivo</td>\n",
       "      <td>79</td>\n",
       "      <td>M</td>\n",
       "      <td>0.826989</td>\n",
       "      <td>0.633677</td>\n",
       "      <td>1.326004</td>\n",
       "      <td>0.823259</td>\n",
       "      <td>2</td>\n",
       "      <td>0.352115</td>\n",
       "      <td>57.346196</td>\n",
       "      <td>...</td>\n",
       "      <td>0.429035</td>\n",
       "      <td>59.169468</td>\n",
       "      <td>1</td>\n",
       "      <td>1.198056</td>\n",
       "      <td>0.423096</td>\n",
       "      <td>0.858070</td>\n",
       "      <td>1.923441</td>\n",
       "      <td>2.028073</td>\n",
       "      <td>0.948408</td>\n",
       "      <td>0.467640</td>\n",
       "    </tr>\n",
       "    <tr>\n",
       "      <th>2</th>\n",
       "      <td>Positivo</td>\n",
       "      <td>79</td>\n",
       "      <td>M</td>\n",
       "      <td>0.789131</td>\n",
       "      <td>0.610778</td>\n",
       "      <td>1.219237</td>\n",
       "      <td>0.739892</td>\n",
       "      <td>2</td>\n",
       "      <td>0.359121</td>\n",
       "      <td>60.114133</td>\n",
       "      <td>...</td>\n",
       "      <td>0.405821</td>\n",
       "      <td>56.550877</td>\n",
       "      <td>1</td>\n",
       "      <td>1.059078</td>\n",
       "      <td>0.382493</td>\n",
       "      <td>0.811643</td>\n",
       "      <td>1.974094</td>\n",
       "      <td>2.121983</td>\n",
       "      <td>0.930306</td>\n",
       "      <td>0.438414</td>\n",
       "    </tr>\n",
       "    <tr>\n",
       "      <th>3</th>\n",
       "      <td>Positivo</td>\n",
       "      <td>68</td>\n",
       "      <td>M</td>\n",
       "      <td>1.193026</td>\n",
       "      <td>0.536687</td>\n",
       "      <td>1.263887</td>\n",
       "      <td>0.741654</td>\n",
       "      <td>2</td>\n",
       "      <td>0.476885</td>\n",
       "      <td>50.955888</td>\n",
       "      <td>...</td>\n",
       "      <td>0.435792</td>\n",
       "      <td>50.936203</td>\n",
       "      <td>1</td>\n",
       "      <td>1.085094</td>\n",
       "      <td>0.369960</td>\n",
       "      <td>0.871583</td>\n",
       "      <td>1.951583</td>\n",
       "      <td>2.355888</td>\n",
       "      <td>0.828385</td>\n",
       "      <td>0.351623</td>\n",
       "    </tr>\n",
       "    <tr>\n",
       "      <th>4</th>\n",
       "      <td>Positivo</td>\n",
       "      <td>68</td>\n",
       "      <td>M</td>\n",
       "      <td>1.045567</td>\n",
       "      <td>0.508093</td>\n",
       "      <td>1.061983</td>\n",
       "      <td>0.817604</td>\n",
       "      <td>2</td>\n",
       "      <td>0.446011</td>\n",
       "      <td>57.412502</td>\n",
       "      <td>...</td>\n",
       "      <td>0.358499</td>\n",
       "      <td>59.642470</td>\n",
       "      <td>1</td>\n",
       "      <td>1.189026</td>\n",
       "      <td>0.356362</td>\n",
       "      <td>0.716997</td>\n",
       "      <td>1.858186</td>\n",
       "      <td>2.011989</td>\n",
       "      <td>0.923557</td>\n",
       "      <td>0.459027</td>\n",
       "    </tr>\n",
       "  </tbody>\n",
       "</table>\n",
       "<p>5 rows × 33 columns</p>\n",
       "</div>"
      ],
      "text/plain": [
       "  Case1_Control0  Edad Genero  Cycle Time  Stance Percent  Stance Time  \\\n",
       "0       Positivo    79      M    0.803979        0.644524     1.327075   \n",
       "1       Positivo    79      M    0.826989        0.633677     1.326004   \n",
       "2       Positivo    79      M    0.789131        0.610778     1.219237   \n",
       "3       Positivo    68      M    1.193026        0.536687     1.263887   \n",
       "4       Positivo    68      M    1.045567        0.508093     1.061983   \n",
       "\n",
       "   Step Length  Step Number  Step Time  Step Cadence      ...        \\\n",
       "0     0.796338            2   0.335486     58.280750      ...         \n",
       "1     0.823259            2   0.352115     57.346196      ...         \n",
       "2     0.739892            2   0.359121     60.114133      ...         \n",
       "3     0.741654            2   0.476885     50.955888      ...         \n",
       "4     0.817604            2   0.446011     57.412502      ...         \n",
       "\n",
       "   Step Timel  Step Cadencel  Stride Numberl  Stride Lengthl  Swing Percentl  \\\n",
       "0    0.312041      88.428185               1        0.185463        0.459888   \n",
       "1    0.429035      59.169468               1        1.198056        0.423096   \n",
       "2    0.405821      56.550877               1        1.059078        0.382493   \n",
       "3    0.435792      50.936203               1        1.085094        0.369960   \n",
       "4    0.358499      59.642470               1        1.189026        0.356362   \n",
       "\n",
       "   Swing Timel  Distancel  Duration Timel    Speedl  Accelerationl  \n",
       "0     0.624083   1.890646        1.357033  1.393220       1.026666  \n",
       "1     0.858070   1.923441        2.028073  0.948408       0.467640  \n",
       "2     0.811643   1.974094        2.121983  0.930306       0.438414  \n",
       "3     0.871583   1.951583        2.355888  0.828385       0.351623  \n",
       "4     0.716997   1.858186        2.011989  0.923557       0.459027  \n",
       "\n",
       "[5 rows x 33 columns]"
      ]
     },
     "execution_count": 3,
     "metadata": {},
     "output_type": "execute_result"
    }
   ],
   "source": [
    "data = pd.read_csv('data_set_cleaned.csv', header = 0, names=None)\n",
    "data.head()"
   ]
  },
  {
   "cell_type": "code",
   "execution_count": 4,
   "metadata": {},
   "outputs": [],
   "source": [
    "x = data.loc[: , ~data.columns.isin(['Case1_Control0'])]\n",
    "x = pd.get_dummies(data=x)\n",
    "x = x.values\n",
    "\n",
    "y = data['Case1_Control0'].values"
   ]
  },
  {
   "cell_type": "code",
   "execution_count": 6,
   "metadata": {},
   "outputs": [
    {
     "name": "stdout",
     "output_type": "stream",
     "text": [
      "Maxima exactitud=0.69298\n"
     ]
    }
   ],
   "source": [
    "clf = LogisticRegression()\n",
    "\n",
    "kf = KFold(n_splits=10, shuffle=True, random_state=1234)\n",
    "acc_test_vec=[]\n",
    "for indices_train, indices_test in kf.split(x):    \n",
    "    #print(\"%s %s\" % (x[indices_train], indices_test))        \n",
    "    x_train = x[indices_train]\n",
    "    x_test = x[indices_test]\n",
    "    clf.fit(x_train,y[indices_train])\n",
    "    y_pred = clf.predict(x_test)\n",
    "    acc_test_vec.append(metrics.accuracy_score(y[indices_test], y_pred))  \n",
    "acc_test_vec\n",
    "print(\"Maxima exactitud=%0.5f\" % (np.mean(acc_test_vec)))"
   ]
  },
  {
   "cell_type": "code",
   "execution_count": 17,
   "metadata": {},
   "outputs": [
    {
     "name": "stdout",
     "output_type": "stream",
     "text": [
      "Mejores parametros:\n",
      " {'C': 0.5, 'penalty': 'l2'}\n",
      "Mejor Exactitud:\n",
      " 0.6813186813186813\n"
     ]
    }
   ],
   "source": [
    "param_grid = {\n",
    "    'penalty' : ['l2', 'l1'],\n",
    "    'C' : [0.001, 0.01, 0.1, 0.5, 1, 100, 1000]\n",
    "}\n",
    "\n",
    "GS_LR = GridSearchCV(LogisticRegression(), param_grid = param_grid, scoring = 'accuracy', cv = 10)\n",
    "\n",
    "GS_LR.fit(x,y)\n",
    "\n",
    "print('Mejores parametros:\\n', GS_LR.best_params_)\n",
    "print('Mejor Exactitud:\\n', GS_LR.best_score_)"
   ]
  },
  {
   "cell_type": "code",
   "execution_count": 36,
   "metadata": {},
   "outputs": [
    {
     "name": "stdout",
     "output_type": "stream",
     "text": [
      "Mejores parametros:\n",
      " {'C': 0.7660778015155691, 'penalty': 'l2'}\n",
      "Mejor Exactitud:\n",
      " 0.6813186813186813\n"
     ]
    }
   ],
   "source": [
    "param_grid = {\n",
    "    'penalty' : ['l2', 'l1'],\n",
    "    'C' : uniform(loc=0, scale=4)\n",
    "}\n",
    "\n",
    "RS_LR = RandomizedSearchCV(LogisticRegression(), param_distributions=param_grid, random_state=1234,\n",
    "                           cv=10, scoring='accuracy', n_iter=20)\n",
    "\n",
    "RS_LR.fit(x,y)\n",
    "\n",
    "print('Mejores parametros:\\n', RS_LR.best_params_)\n",
    "print('Mejor Exactitud:\\n', RS_LR.best_score_)\n",
    "\n"
   ]
  },
  {
   "cell_type": "markdown",
   "metadata": {},
   "source": [
    "PCA"
   ]
  },
  {
   "cell_type": "code",
   "execution_count": 37,
   "metadata": {},
   "outputs": [],
   "source": [
    "data_pca = pd.read_csv('data_set_pca.csv', header = 0, names=None)\n",
    "x_pca = data_pca.values"
   ]
  },
  {
   "cell_type": "code",
   "execution_count": 40,
   "metadata": {},
   "outputs": [
    {
     "name": "stdout",
     "output_type": "stream",
     "text": [
      "Mejores parametros:\n",
      " {'C': 1.1058570205723868, 'penalty': 'l1'}\n",
      "Mejor Exactitud:\n",
      " 0.6428571428571429\n"
     ]
    }
   ],
   "source": [
    "RS_LR.fit(x_pca, y)\n",
    "\n",
    "print('Mejores parametros:\\n', RS_LR.best_params_)\n",
    "print('Mejor Exactitud:\\n', RS_LR.best_score_)"
   ]
  },
  {
   "cell_type": "markdown",
   "metadata": {},
   "source": [
    "## RFE"
   ]
  },
  {
   "cell_type": "code",
   "execution_count": 6,
   "metadata": {},
   "outputs": [
    {
     "name": "stdout",
     "output_type": "stream",
     "text": [
      "Caracteristicas seleccionadas: Index(['Edad', 'Stance Time', 'Duration Time', 'Speed', 'Cycle Timel',\n",
      "       'Step Timel', 'Swing Percentl', 'Swing Timel', 'Distancel',\n",
      "       'Duration Timel', 'Speedl', 'Accelerationl'],\n",
      "      dtype='object')\n",
      "Mejor Exactitud: 0.7213450292397662\n"
     ]
    }
   ],
   "source": [
    "rfecv = RFECV(estimator=LogisticRegression(penalty='l2', C=0.5), scoring='accuracy', cv=10, step=1)\n",
    "\n",
    "rfecv.fit(x,y)\n",
    "\n",
    "print(\"Caracteristicas seleccionadas:\",data.columns[rfecv.support_])\n",
    "print(\"Mejor Exactitud:\", np.max(rfecv.grid_scores_))"
   ]
  },
  {
   "cell_type": "markdown",
   "metadata": {},
   "source": [
    "## Evaluación de métricas: "
   ]
  },
  {
   "cell_type": "code",
   "execution_count": 1,
   "metadata": {},
   "outputs": [],
   "source": [
    "def wrap_precision(y_test,y_pred):\n",
    "    return metrics.precision_score(y_test,y_pred,pos_label='Positivo')\n",
    "\n",
    "def wrap_recall(y_test,y_pred):\n",
    "    return metrics.recall_score(y_test,y_pred,pos_label='Positivo')\n",
    "\n",
    "def wrap_f1(y_test,y_pred):\n",
    "    return metrics.f1_score(y_test,y_pred,pos_label='Positivo')\n",
    "\n",
    "def wrap_kappa(y_test,y_pred):\n",
    "    return metrics.cohen_kappa_score(y_test,y_pred)"
   ]
  },
  {
   "cell_type": "code",
   "execution_count": 10,
   "metadata": {},
   "outputs": [
    {
     "name": "stdout",
     "output_type": "stream",
     "text": [
      "Exactitud:  0.7213450292397662\n",
      "Kappa_Score:  0.4445169082125604\n",
      "\n",
      "Precisión:  0.8134157509157509\n",
      "Recall:  0.6555555555555556\n",
      "F1_score:  0.6693983957219252\n"
     ]
    }
   ],
   "source": [
    "x_rfe = x[:, rfecv.support_]\n",
    "\n",
    "scores = {\n",
    "    'acc':'accuracy', \n",
    "    'kappa' : metrics.make_scorer(wrap_kappa),\n",
    "    'precision' : metrics.make_scorer(wrap_precision),\n",
    "    'recall' : metrics.make_scorer(wrap_recall),\n",
    "    'f1' : metrics.make_scorer(wrap_f1)\n",
    "}\n",
    "\n",
    "cv_scores = cross_validate(estimator=LogisticRegression(penalty='l2', C=0.5), X=x_rfe,y=y,\n",
    "                           cv=10, return_train_score=False, scoring=scores)\n",
    "\n",
    "print('Exactitud: ', np.average(cv_scores['test_acc']))\n",
    "print('Kappa_Score: ', np.average(cv_scores['test_kappa']))\n",
    "print()\n",
    "print('Precisión: ', np.average(cv_scores['test_precision']))\n",
    "print('Recall: ', np.average(cv_scores['test_recall']))\n",
    "print('F1_score: ', np.average(cv_scores['test_f1']))"
   ]
  },
  {
   "cell_type": "markdown",
   "metadata": {},
   "source": [
    "#### Interpretación de métricas:\n",
    "\n",
    "El modelo tiene una buena exactitud muy similar a la encontrada en los modelos de árboles (ver 5. Trees), sin embargo no tiene tan buena sensibilidad (Recall) y ya que es para diagnóstico de Parkinson, es importante que el modelo pueda diferenciar mejor los pacientes positivos de los negativos.\n",
    "\n",
    "Por esta razón, este modelo es la segunda opción para realizar diagnóstico de los modelos explorados."
   ]
  }
 ],
 "metadata": {
  "kernelspec": {
   "display_name": "Python 3",
   "language": "python",
   "name": "python3"
  },
  "language_info": {
   "codemirror_mode": {
    "name": "ipython",
    "version": 3
   },
   "file_extension": ".py",
   "mimetype": "text/x-python",
   "name": "python",
   "nbconvert_exporter": "python",
   "pygments_lexer": "ipython3",
   "version": "3.6.5"
  }
 },
 "nbformat": 4,
 "nbformat_minor": 2
}
