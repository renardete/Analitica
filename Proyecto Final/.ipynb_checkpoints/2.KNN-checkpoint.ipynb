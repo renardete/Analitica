{
 "cells": [
  {
   "cell_type": "code",
   "execution_count": 12,
   "metadata": {},
   "outputs": [],
   "source": [
    "import numpy as np #operaciones matriciales y con vectores\n",
    "import pandas as pd #tratamiento de datos\n",
    "import matplotlib.pyplot as plt #gráficos\n",
    "from sklearn import neighbors, metrics\n",
    "from sklearn.model_selection import cross_val_score, cross_validate #método para evaluar varios particionamientos de C-V\n",
    "from sklearn.model_selection import KFold\n",
    "from sklearn.model_selection import RandomizedSearchCV\n",
    "from sklearn.preprocessing import StandardScaler\n",
    "import seaborn as sns\n",
    "\n",
    "from scipy import stats\n",
    "\n",
    "# Bagging\n",
    "from sklearn.ensemble import BaggingClassifier"
   ]
  },
  {
   "cell_type": "code",
   "execution_count": 2,
   "metadata": {
    "scrolled": true
   },
   "outputs": [
    {
     "data": {
      "text/html": [
       "<div>\n",
       "<style scoped>\n",
       "    .dataframe tbody tr th:only-of-type {\n",
       "        vertical-align: middle;\n",
       "    }\n",
       "\n",
       "    .dataframe tbody tr th {\n",
       "        vertical-align: top;\n",
       "    }\n",
       "\n",
       "    .dataframe thead th {\n",
       "        text-align: right;\n",
       "    }\n",
       "</style>\n",
       "<table border=\"1\" class=\"dataframe\">\n",
       "  <thead>\n",
       "    <tr style=\"text-align: right;\">\n",
       "      <th></th>\n",
       "      <th>Case1_Control0</th>\n",
       "      <th>Edad</th>\n",
       "      <th>Genero</th>\n",
       "      <th>Cycle Time</th>\n",
       "      <th>Stance Percent</th>\n",
       "      <th>Stance Time</th>\n",
       "      <th>Step Length</th>\n",
       "      <th>Step Number</th>\n",
       "      <th>Step Time</th>\n",
       "      <th>Step Cadence</th>\n",
       "      <th>...</th>\n",
       "      <th>Step Timel</th>\n",
       "      <th>Step Cadencel</th>\n",
       "      <th>Stride Numberl</th>\n",
       "      <th>Stride Lengthl</th>\n",
       "      <th>Swing Percentl</th>\n",
       "      <th>Swing Timel</th>\n",
       "      <th>Distancel</th>\n",
       "      <th>Duration Timel</th>\n",
       "      <th>Speedl</th>\n",
       "      <th>Accelerationl</th>\n",
       "    </tr>\n",
       "  </thead>\n",
       "  <tbody>\n",
       "    <tr>\n",
       "      <th>0</th>\n",
       "      <td>Positivo</td>\n",
       "      <td>79</td>\n",
       "      <td>M</td>\n",
       "      <td>0.803979</td>\n",
       "      <td>0.644524</td>\n",
       "      <td>1.327075</td>\n",
       "      <td>0.796338</td>\n",
       "      <td>2</td>\n",
       "      <td>0.335486</td>\n",
       "      <td>58.280750</td>\n",
       "      <td>...</td>\n",
       "      <td>0.312041</td>\n",
       "      <td>88.428185</td>\n",
       "      <td>1</td>\n",
       "      <td>0.185463</td>\n",
       "      <td>0.459888</td>\n",
       "      <td>0.624083</td>\n",
       "      <td>1.890646</td>\n",
       "      <td>1.357033</td>\n",
       "      <td>1.393220</td>\n",
       "      <td>1.026666</td>\n",
       "    </tr>\n",
       "    <tr>\n",
       "      <th>1</th>\n",
       "      <td>Positivo</td>\n",
       "      <td>79</td>\n",
       "      <td>M</td>\n",
       "      <td>0.826989</td>\n",
       "      <td>0.633677</td>\n",
       "      <td>1.326004</td>\n",
       "      <td>0.823259</td>\n",
       "      <td>2</td>\n",
       "      <td>0.352115</td>\n",
       "      <td>57.346196</td>\n",
       "      <td>...</td>\n",
       "      <td>0.429035</td>\n",
       "      <td>59.169468</td>\n",
       "      <td>1</td>\n",
       "      <td>1.198056</td>\n",
       "      <td>0.423096</td>\n",
       "      <td>0.858070</td>\n",
       "      <td>1.923441</td>\n",
       "      <td>2.028073</td>\n",
       "      <td>0.948408</td>\n",
       "      <td>0.467640</td>\n",
       "    </tr>\n",
       "    <tr>\n",
       "      <th>2</th>\n",
       "      <td>Positivo</td>\n",
       "      <td>79</td>\n",
       "      <td>M</td>\n",
       "      <td>0.789131</td>\n",
       "      <td>0.610778</td>\n",
       "      <td>1.219237</td>\n",
       "      <td>0.739892</td>\n",
       "      <td>2</td>\n",
       "      <td>0.359121</td>\n",
       "      <td>60.114133</td>\n",
       "      <td>...</td>\n",
       "      <td>0.405821</td>\n",
       "      <td>56.550877</td>\n",
       "      <td>1</td>\n",
       "      <td>1.059078</td>\n",
       "      <td>0.382493</td>\n",
       "      <td>0.811643</td>\n",
       "      <td>1.974094</td>\n",
       "      <td>2.121983</td>\n",
       "      <td>0.930306</td>\n",
       "      <td>0.438414</td>\n",
       "    </tr>\n",
       "    <tr>\n",
       "      <th>3</th>\n",
       "      <td>Positivo</td>\n",
       "      <td>68</td>\n",
       "      <td>M</td>\n",
       "      <td>1.193026</td>\n",
       "      <td>0.536687</td>\n",
       "      <td>1.263887</td>\n",
       "      <td>0.741654</td>\n",
       "      <td>2</td>\n",
       "      <td>0.476885</td>\n",
       "      <td>50.955888</td>\n",
       "      <td>...</td>\n",
       "      <td>0.435792</td>\n",
       "      <td>50.936203</td>\n",
       "      <td>1</td>\n",
       "      <td>1.085094</td>\n",
       "      <td>0.369960</td>\n",
       "      <td>0.871583</td>\n",
       "      <td>1.951583</td>\n",
       "      <td>2.355888</td>\n",
       "      <td>0.828385</td>\n",
       "      <td>0.351623</td>\n",
       "    </tr>\n",
       "    <tr>\n",
       "      <th>4</th>\n",
       "      <td>Positivo</td>\n",
       "      <td>68</td>\n",
       "      <td>M</td>\n",
       "      <td>1.045567</td>\n",
       "      <td>0.508093</td>\n",
       "      <td>1.061983</td>\n",
       "      <td>0.817604</td>\n",
       "      <td>2</td>\n",
       "      <td>0.446011</td>\n",
       "      <td>57.412502</td>\n",
       "      <td>...</td>\n",
       "      <td>0.358499</td>\n",
       "      <td>59.642470</td>\n",
       "      <td>1</td>\n",
       "      <td>1.189026</td>\n",
       "      <td>0.356362</td>\n",
       "      <td>0.716997</td>\n",
       "      <td>1.858186</td>\n",
       "      <td>2.011989</td>\n",
       "      <td>0.923557</td>\n",
       "      <td>0.459027</td>\n",
       "    </tr>\n",
       "  </tbody>\n",
       "</table>\n",
       "<p>5 rows × 33 columns</p>\n",
       "</div>"
      ],
      "text/plain": [
       "  Case1_Control0  Edad Genero  Cycle Time  Stance Percent  Stance Time  \\\n",
       "0       Positivo    79      M    0.803979        0.644524     1.327075   \n",
       "1       Positivo    79      M    0.826989        0.633677     1.326004   \n",
       "2       Positivo    79      M    0.789131        0.610778     1.219237   \n",
       "3       Positivo    68      M    1.193026        0.536687     1.263887   \n",
       "4       Positivo    68      M    1.045567        0.508093     1.061983   \n",
       "\n",
       "   Step Length  Step Number  Step Time  Step Cadence      ...        \\\n",
       "0     0.796338            2   0.335486     58.280750      ...         \n",
       "1     0.823259            2   0.352115     57.346196      ...         \n",
       "2     0.739892            2   0.359121     60.114133      ...         \n",
       "3     0.741654            2   0.476885     50.955888      ...         \n",
       "4     0.817604            2   0.446011     57.412502      ...         \n",
       "\n",
       "   Step Timel  Step Cadencel  Stride Numberl  Stride Lengthl  Swing Percentl  \\\n",
       "0    0.312041      88.428185               1        0.185463        0.459888   \n",
       "1    0.429035      59.169468               1        1.198056        0.423096   \n",
       "2    0.405821      56.550877               1        1.059078        0.382493   \n",
       "3    0.435792      50.936203               1        1.085094        0.369960   \n",
       "4    0.358499      59.642470               1        1.189026        0.356362   \n",
       "\n",
       "   Swing Timel  Distancel  Duration Timel    Speedl  Accelerationl  \n",
       "0     0.624083   1.890646        1.357033  1.393220       1.026666  \n",
       "1     0.858070   1.923441        2.028073  0.948408       0.467640  \n",
       "2     0.811643   1.974094        2.121983  0.930306       0.438414  \n",
       "3     0.871583   1.951583        2.355888  0.828385       0.351623  \n",
       "4     0.716997   1.858186        2.011989  0.923557       0.459027  \n",
       "\n",
       "[5 rows x 33 columns]"
      ]
     },
     "execution_count": 2,
     "metadata": {},
     "output_type": "execute_result"
    }
   ],
   "source": [
    "data = pd.read_csv('data_set_cleaned.csv', header = 0, names=None)\n",
    "data.head()"
   ]
  },
  {
   "cell_type": "code",
   "execution_count": null,
   "metadata": {},
   "outputs": [],
   "source": [
    "x = data.loc[: , ~data.columns.isin(['Case1_Control0','Genero'])].values\n",
    "y = data['Case1_Control0'].values"
   ]
  },
  {
   "cell_type": "markdown",
   "metadata": {},
   "source": [
    "### Fine Tuning (Mejor k)"
   ]
  },
  {
   "cell_type": "code",
   "execution_count": 4,
   "metadata": {},
   "outputs": [
    {
     "name": "stdout",
     "output_type": "stream",
     "text": [
      "Maxima exactitud=0.67690 con k=41\n"
     ]
    }
   ],
   "source": [
    "# Knn sin estandarizar datos.\n",
    "acc_k =[]\n",
    "for k in range(1, 50):\n",
    "    #KFold para un k.\n",
    "    knn = neighbors.KNeighborsClassifier(n_neighbors=k)\n",
    "    kf = KFold(n_splits=10, shuffle=True, random_state=1234)\n",
    "    acc_test_vec=[]\n",
    "    for indices_train, indices_test in kf.split(x):    \n",
    "        #print(\"%s %s\" % (x[indices_train], indices_test))\n",
    "        x_train = x[indices_train]\n",
    "        x_test = x[indices_test]\n",
    "        knn.fit(x_train, y[indices_train])\n",
    "        y_pred = knn.predict(x_test)\n",
    "        acc_test_vec.append(metrics.accuracy_score(y[indices_test], y_pred))  \n",
    "    acc_test_vec\n",
    "    acc_k.append(np.mean(acc_test_vec))\n",
    "print(\"Maxima exactitud=%0.5f con k=%d\" % (np.max(acc_k),np.argmax(acc_k)))\n"
   ]
  },
  {
   "cell_type": "code",
   "execution_count": 5,
   "metadata": {},
   "outputs": [
    {
     "name": "stdout",
     "output_type": "stream",
     "text": [
      "Maxima exactitud=0.69766 con k=9\n"
     ]
    }
   ],
   "source": [
    "#Buscar el k que entregue la mejor exactitud para el dataset de prueba\n",
    "acc_k =[]\n",
    "for k in range(1, 20):\n",
    "    #KFold para un k.\n",
    "    knn = neighbors.KNeighborsClassifier(n_neighbors=k)\n",
    "    kf = KFold(n_splits=10, shuffle=True, random_state=1234)\n",
    "    acc_test_vec=[]\n",
    "    for indices_train, indices_test in kf.split(x):    \n",
    "        #print(\"%s %s\" % (x[indices_train], indices_test))\n",
    "        scaler = StandardScaler()\n",
    "        scaler.fit(x[indices_train])\n",
    "        x_train = scaler.transform(x[indices_train])\n",
    "        x_test = scaler.transform(x[indices_test])\n",
    "        knn.fit(x_train, y[indices_train])\n",
    "        y_pred = knn.predict(x_test)\n",
    "        acc_test_vec.append(metrics.accuracy_score(y[indices_test], y_pred))  \n",
    "    acc_test_vec\n",
    "    acc_k.append(np.mean(acc_test_vec))\n",
    "print(\"Maxima exactitud=%0.5f con k=%d\" % (np.max(acc_k),np.argmax(acc_k)))\n"
   ]
  },
  {
   "cell_type": "markdown",
   "metadata": {},
   "source": [
    "Estandarizando los datos se logra mejorar la exactitud del modelo en el diagnóstico usando un menor k, lo cual mejora la cantidad de calculo de distancias entre los datos."
   ]
  },
  {
   "cell_type": "code",
   "execution_count": 6,
   "metadata": {},
   "outputs": [
    {
     "data": {
      "text/plain": [
       "[<matplotlib.lines.Line2D at 0x26828740b70>]"
      ]
     },
     "execution_count": 6,
     "metadata": {},
     "output_type": "execute_result"
    },
    {
     "data": {
      "image/png": "[encoded data removed]",
      "text/plain": [
       "<Figure size 432x288 with 1 Axes>"
      ]
     },
     "metadata": {},
     "output_type": "display_data"
    }
   ],
   "source": [
    "plt.plot(acc_k)"
   ]
  },
  {
   "cell_type": "code",
   "execution_count": 7,
   "metadata": {},
   "outputs": [],
   "source": [
    "data_pca11 = pd.read_csv('data_set_pca.csv', header = 0, names=None)"
   ]
  },
  {
   "cell_type": "code",
   "execution_count": 8,
   "metadata": {},
   "outputs": [],
   "source": [
    "x_pca = data_pca11.values"
   ]
  },
  {
   "cell_type": "code",
   "execution_count": 9,
   "metadata": {},
   "outputs": [
    {
     "name": "stdout",
     "output_type": "stream",
     "text": [
      "Maxima exactitud=0.70906 con k=22\n"
     ]
    },
    {
     "data": {
      "text/plain": [
       "[<matplotlib.lines.Line2D at 0x268287e7c88>]"
      ]
     },
     "execution_count": 9,
     "metadata": {},
     "output_type": "execute_result"
    },
    {
     "data": {
      "image/png": "[encoded data removed]",
      "text/plain": [
       "<Figure size 432x288 with 1 Axes>"
      ]
     },
     "metadata": {},
     "output_type": "display_data"
    }
   ],
   "source": [
    "acc_k =[]\n",
    "for k in range(1, 50):\n",
    "    #KFold para un k.\n",
    "    knn = neighbors.KNeighborsClassifier(n_neighbors=k)\n",
    "    kf = KFold(n_splits=10, shuffle=True, random_state=1234)\n",
    "    acc_test_vec=[]\n",
    "    for indices_train, indices_test in kf.split(x_pca):    \n",
    "        #print(\"%s %s\" % (x[indices_train], indices_test))\n",
    "        x_train = x_pca[indices_train]\n",
    "        x_test = x_pca[indices_test]\n",
    "        knn.fit(x_train, y[indices_train])\n",
    "        y_pred = knn.predict(x_test)\n",
    "        acc_test_vec.append(metrics.accuracy_score(y[indices_test], y_pred))  \n",
    "    acc_test_vec\n",
    "    acc_k.append(np.mean(acc_test_vec))\n",
    "print(\"Maxima exactitud=%0.5f con k=%d\" % (np.max(acc_k),np.argmax(acc_k)))\n",
    "\n",
    "plt.plot(acc_k)\n"
   ]
  },
  {
   "cell_type": "markdown",
   "metadata": {},
   "source": [
    "PCA no mejora la exactitud del modelo KNN."
   ]
  },
  {
   "cell_type": "markdown",
   "metadata": {},
   "source": [
    "### Bagging con KNN\n",
    "\n",
    "Buscamos un modelo"
   ]
  },
  {
   "cell_type": "code",
   "execution_count": 44,
   "metadata": {},
   "outputs": [
    {
     "data": {
      "text/plain": [
       "RandomizedSearchCV(cv=10, error_score='raise',\n",
       "          estimator=BaggingClassifier(base_estimator=KNeighborsClassifier(algorithm='auto', leaf_size=30, metric='minkowski',\n",
       "           metric_params=None, n_jobs=1, n_neighbors=5, p=2,\n",
       "           weights='uniform'),\n",
       "         bootstrap=True, bootstrap_features=False, max_features=1.0,\n",
       "         max_samples=1.0, n_estimators=10, n_jobs=1, oob_score=False,\n",
       "         random_state=None, verbose=0, warm_start=False),\n",
       "          fit_params=None, iid=True, n_iter=10, n_jobs=1,\n",
       "          param_distributions={'base_estimator__n_neighbors': [15], 'n_estimators': [18], 'max_samples': <scipy.stats._distn_infrastructure.rv_frozen object at 0x000002682CE9A860>, 'max_features': <scipy.stats._distn_infrastructure.rv_frozen object at 0x000002682CE9A978>},\n",
       "          pre_dispatch='2*n_jobs', random_state=1234, refit=True,\n",
       "          return_train_score='warn', scoring='accuracy', verbose=0)"
      ]
     },
     "execution_count": 44,
     "metadata": {},
     "output_type": "execute_result"
    }
   ],
   "source": [
    "param_grid = {\n",
    "    'base_estimator__n_neighbors' : [stats.randint.rvs(5,20,1)],\n",
    "    'n_estimators' : [stats.randint.rvs(10,120,1)],\n",
    "    'max_samples' : stats.uniform(0.1,0.7),\n",
    "    'max_features' : stats.uniform(0.05,0.7)\n",
    "}\n",
    "\n",
    "RS_BK = RandomizedSearchCV(BaggingClassifier(base_estimator = neighbors.KNeighborsClassifier()),\n",
    "                     param_distributions=param_grid, scoring='accuracy', cv=10, n_iter=10, random_state=1234)\n",
    "\n",
    "RS_BK.fit(x, y)"
   ]
  },
  {
   "cell_type": "code",
   "execution_count": 45,
   "metadata": {},
   "outputs": [
    {
     "name": "stdout",
     "output_type": "stream",
     "text": [
      "Mejores parametros:\n",
      " {'base_estimator__n_neighbors': 15, 'max_features': 0.5284240546204954, 'max_samples': 0.5988914188880301, 'n_estimators': 18}\n",
      "Mejor Exactitud:\n",
      " 0.6318681318681318\n"
     ]
    }
   ],
   "source": [
    "print('Mejores parametros:\\n', RS_BK.best_params_)\n",
    "print('Mejor Exactitud:\\n', RS_BK.best_score_)"
   ]
  },
  {
   "cell_type": "markdown",
   "metadata": {},
   "source": [
    "Durante el afinamiento de parametros como la busqueda de parametros es randomica, la exactitud varia con cada ejecución, sin embargo el mejor resultado fue:\n",
    "\n",
    "**Mejores parametros:**  \n",
    " {'base_estimator__n_neighbors': 8, 'max_features': 0.4021582157154668, 'max_samples': 0.10688422479534113, 'n_estimators': 83}  \n",
    "**Mejor Exactitud:**   \n",
    " 0.6648351648351648"
   ]
  }
 ],
 "metadata": {
  "kernelspec": {
   "display_name": "Python 3",
   "language": "python",
   "name": "python3"
  },
  "language_info": {
   "codemirror_mode": {
    "name": "ipython",
    "version": 3
   },
   "file_extension": ".py",
   "mimetype": "text/x-python",
   "name": "python",
   "nbconvert_exporter": "python",
   "pygments_lexer": "ipython3",
   "version": "3.6.5"
  }
 },
 "nbformat": 4,
 "nbformat_minor": 2
}
